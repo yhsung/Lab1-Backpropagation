{
 "cells": [
  {
   "cell_type": "code",
   "execution_count": 4,
   "metadata": {},
   "outputs": [],
   "source": [
    "import numpy as np\n",
    "import matplotlib.pyplot as plt\n",
    "import datetime\n",
    "import os\n",
    "import logging\n",
    "import argparse\n",
    "log_filename = datetime.datetime.now().strftime(\".log/%Y-%m-%d_%H_%M_%S.log\")\n",
    "os.makedirs(os.path.dirname(log_filename), exist_ok=True)\n",
    "logging.basicConfig(level=logging.DEBUG,\n",
    "                 format='%(asctime)s %(name)-12s %(levelname)-8s %(message)s',\n",
    "                 datefmt='%m-%d %H:%M:%S',\n",
    "                 filename=log_filename)\n",
    "console = logging.StreamHandler()\n",
    "console.setLevel(logging.INFO)\n",
    "formatter = logging.Formatter('%(name)-12s: %(levelname)-8s %(message)s')\n",
    "console.setFormatter(formatter)\n",
    "logging.getLogger('').addHandler(console)"
   ]
  },
  {
   "cell_type": "code",
   "execution_count": 5,
   "metadata": {},
   "outputs": [],
   "source": [
    "def generate_linear(n=100):\n",
    "    pts = np.random.uniform(0, 1, (n, 2))\n",
    "    inputs = []\n",
    "    labels = []\n",
    "    for pt in pts:\n",
    "        inputs.append([pt[0], pt[1]])\n",
    "        distance = (pt[0] - pt[1]) / 1.414\n",
    "        if pt[0] > pt[1]:\n",
    "            labels.append(0)\n",
    "        else:\n",
    "            labels.append(1)\n",
    "    return np.array(inputs), np.array(labels).reshape(n, 1)\n",
    "\n",
    "def generate_XOR_easy():\n",
    "    inputs = []\n",
    "    labels = []\n",
    "    for i in range(11):\n",
    "        inputs.append([0.1*i, 0.1*i])\n",
    "        labels.append(0)\n",
    "        if 0.1*i == 0.5:\n",
    "            continue\n",
    "\n",
    "        inputs.append([0.1*i, 1-0.1*i])\n",
    "        labels.append(1)\n",
    "\n",
    "    return np.array(inputs), np.array(labels).reshape(21, 1)"
   ]
  },
  {
   "cell_type": "code",
   "execution_count": 6,
   "metadata": {},
   "outputs": [],
   "source": [
    "def show_result(x, y, pred_y):\n",
    "    plt.subplot(1, 2, 1)\n",
    "    plt.title('Ground truth', fontsize=18)\n",
    "    for i in range(x.shape[0]):\n",
    "        if y[i] == 0:\n",
    "            plt.plot(x[i][0], x[i][1], 'ro')\n",
    "        else:\n",
    "            plt.plot(x[i][0], x[i][1], 'bo')\n",
    "\n",
    "    plt.subplot(1, 2, 2)\n",
    "    plt.title('Predict result', fontsize=18)\n",
    "    for i in range(x.shape[0]):\n",
    "        if pred_y[i] == 0:\n",
    "            plt.plot(x[i][0], x[i][1], 'ro')\n",
    "        else:\n",
    "            plt.plot(x[i][0], x[i][1], 'bo')\n",
    "\n",
    "    plt.show()"
   ]
  },
  {
   "cell_type": "markdown",
   "metadata": {},
   "source": [
    "![Backpropagation pseudo code](images/backprop-pseudo-code.png)"
   ]
  },
  {
   "cell_type": "code",
   "execution_count": 7,
   "metadata": {},
   "outputs": [
    {
     "data": {
      "image/png": "[encoded data removed]",
      "text/plain": [
       "<Figure size 432x288 with 2 Axes>"
      ]
     },
     "metadata": {
      "needs_background": "light"
     },
     "output_type": "display_data"
    },
    {
     "data": {
      "image/png": "[encoded data removed]",
      "text/plain": [
       "<Figure size 432x288 with 2 Axes>"
      ]
     },
     "metadata": {
      "needs_background": "light"
     },
     "output_type": "display_data"
    }
   ],
   "source": [
    "def sigmoid(x):\n",
    "    pass\n",
    "\n",
    "def derivative_sigmoid(x):\n",
    "    pass\n",
    "\n",
    "def backprop():\n",
    "    pass\n",
    "\n",
    "x, y = generate_linear()\n",
    "show_result(x, y, y)\n",
    "x, y = generate_XOR_easy()\n",
    "show_result(x, y, y)"
   ]
  },
  {
   "cell_type": "code",
   "execution_count": null,
   "metadata": {},
   "outputs": [],
   "source": []
  }
 ],
 "metadata": {
  "kernelspec": {
   "display_name": "Python 3",
   "language": "python",
   "name": "python3"
  },
  "language_info": {
   "codemirror_mode": {
    "name": "ipython",
    "version": 3
   },
   "file_extension": ".py",
   "mimetype": "text/x-python",
   "name": "python",
   "nbconvert_exporter": "python",
   "pygments_lexer": "ipython3",
   "version": "3.7.7"
  }
 },
 "nbformat": 4,
 "nbformat_minor": 4
}
