{
 "cells": [
  {
   "cell_type": "code",
   "execution_count": 123,
   "metadata": {},
   "outputs": [],
   "source": [
    "%matplotlib inline\n",
    "import numpy as np\n",
    "import matplotlib.pyplot as plt\n",
    "import datetime\n",
    "import os\n",
    "import logging\n",
    "import argparse\n",
    "import math\n",
    "log_filename = datetime.datetime.now().strftime(\".log/%Y-%m-%d_%H_%M_%S.log\")\n",
    "os.makedirs(os.path.dirname(log_filename), exist_ok=True)\n",
    "logging.basicConfig(level=logging.DEBUG,\n",
    "                 format='%(asctime)s %(name)-12s %(levelname)-8s %(message)s',\n",
    "                 datefmt='%m-%d %H:%M:%S',\n",
    "                 filename=log_filename)\n",
    "console = logging.StreamHandler()\n",
    "console.setLevel(logging.INFO)\n",
    "formatter = logging.Formatter('%(name)-12s: %(levelname)-8s %(message)s')\n",
    "console.setFormatter(formatter)\n",
    "logging.getLogger('').addHandler(console)"
   ]
  },
  {
   "cell_type": "code",
   "execution_count": 124,
   "metadata": {},
   "outputs": [],
   "source": [
    "def generate_linear(n=100):\n",
    "    pts = np.random.uniform(0, 1, (n, 2))\n",
    "    inputs = []\n",
    "    labels = []\n",
    "    for pt in pts:\n",
    "        inputs.append([pt[0], pt[1]])\n",
    "        distance = (pt[0] - pt[1]) / 1.414\n",
    "        if pt[0] > pt[1]:\n",
    "            labels.append(0)\n",
    "        else:\n",
    "            labels.append(1)\n",
    "    return np.array(inputs), np.array(labels).reshape(n, 1)\n",
    "\n",
    "def generate_XOR_easy():\n",
    "    inputs = []\n",
    "    labels = []\n",
    "    for i in range(11):\n",
    "        inputs.append([0.1*i, 0.1*i])\n",
    "        labels.append(0)\n",
    "        if 0.1*i == 0.5:\n",
    "            continue\n",
    "\n",
    "        inputs.append([0.1*i, 1-0.1*i])\n",
    "        labels.append(1)\n",
    "\n",
    "    return np.array(inputs), np.array(labels).reshape(21, 1)"
   ]
  },
  {
   "cell_type": "code",
   "execution_count": 125,
   "metadata": {},
   "outputs": [],
   "source": [
    "def show_result(x, y, pred_y):\n",
    "    plt.subplot(1, 2, 1)\n",
    "    plt.title('Ground truth', fontsize=18)\n",
    "    for i in range(x.shape[0]):\n",
    "        if y[i] == 0:\n",
    "            plt.plot(x[i][0], x[i][1], 'ro')\n",
    "        else:\n",
    "            plt.plot(x[i][0], x[i][1], 'bo')\n",
    "\n",
    "    plt.subplot(1, 2, 2)\n",
    "    plt.title('Predict result', fontsize=18)\n",
    "    for i in range(x.shape[0]):\n",
    "        if pred_y[i] == 0:\n",
    "            plt.plot(x[i][0], x[i][1], 'ro')\n",
    "        else:\n",
    "            plt.plot(x[i][0], x[i][1], 'bo')\n",
    "\n",
    "    plt.show()"
   ]
  },
  {
   "cell_type": "markdown",
   "metadata": {},
   "source": [
    "![Backpropagation pseudo code](images/backprop-pseudo-code.png)\n"
   ]
  },
  {
   "cell_type": "markdown",
   "metadata": {},
   "source": [
    "Sigmoid Function: $ \\sigma(x) = \\frac{1}{1 + e^{-x}} $  \n",
    "Derivate of Sigmoid Function: $ \\frac{d\\sigma(x)}{d(x)} = \\sigma(x) \\cdot (1 - \\sigma(x)) $  \n",
    "https://www.latex4technics.com/codesearch"
   ]
  },
  {
   "cell_type": "code",
   "execution_count": 126,
   "metadata": {},
   "outputs": [
    {
     "data": {
      "image/png": "[encoded data removed]",
      "text/plain": [
       "<Figure size 648x360 with 1 Axes>"
      ]
     },
     "metadata": {
      "needs_background": "light"
     },
     "output_type": "display_data"
    }
   ],
   "source": [
    "def sigmoid(x):\n",
    "    return (1 / (1 + np.exp(-x)))\n",
    "\n",
    "def derivative(f, *args):\n",
    "    x = f(args[0])\n",
    "    return np.multiply(x, 1.0 - x)\n",
    "\n",
    "def derivative_sigmoid(x):\n",
    "    return np.multiply(sigmoid(x), 1.0 - sigmoid(x))\n",
    "    \n",
    "\n",
    "def mse(y_pred, y_data, derivative=False):\n",
    "    return (np.square(y_pred - y_data)).mean()\n",
    "\n",
    "def show_sigmoid():\n",
    "    # https://medium.com/@omkar.nallagoni/activation-functions-with-derivative-and-python-code-sigmoid-vs-tanh-vs-relu-44d23915c1f4\n",
    "    x=np.arange(-6,6,0.01)\n",
    "    # Setup centered axes\n",
    "    fig, ax = plt.subplots(figsize=(9, 5))\n",
    "    ax.spines['left'].set_position('center')\n",
    "    ax.spines['right'].set_color('none')\n",
    "    ax.spines['top'].set_color('none')\n",
    "    ax.xaxis.set_ticks_position('bottom')\n",
    "    ax.yaxis.set_ticks_position('left')\n",
    "    # Create and show plot\n",
    "    ax.plot(x, sigmoid(x), color=\"#307EC7\", linewidth=3, label=\"sigmoid\")\n",
    "    ax.plot(x, derivative(sigmoid, x), color=\"#9621E2\", linewidth=3, label=\"derivative\")\n",
    "    ax.legend(loc=\"upper right\", frameon=False)\n",
    "    plt.show()\n",
    "    \n",
    "show_sigmoid()"
   ]
  },
  {
   "cell_type": "code",
   "execution_count": 137,
   "metadata": {},
   "outputs": [],
   "source": [
    "class Net:\n",
    "    def __init__(self, dim, activation=sigmoid, loss=mse):\n",
    "        def init_weights(d):\n",
    "            np.random.seed(9487)\n",
    "            input_size, output_size = d\n",
    "            weights = np.random.randn(input_size, output_size) * 0.1\n",
    "            #logging.debug('init weight dimension', d, 'weights', weights)\n",
    "            return weights\n",
    "        \n",
    "        self.layers = [None] * len(dim)\n",
    "        self.weights = [init_weights(d) for d in zip(dim[:-1], dim[1:])]\n",
    "        print(self.weights)\n",
    "        self.act = activation\n",
    "        self.loss = loss\n",
    "\n",
    "    def predict(self, X):\n",
    "        Z = X\n",
    "        for i, W in enumerate(self.weights):\n",
    "            # @ is matrix multiplication operator\n",
    "            #logging.debug('layer', i)\n",
    "            #logging.debug('Z', Z)\n",
    "            #logging.debug('W', W)\n",
    "            Z = self.act(Z @ W)\n",
    "            self.layers[i+1] = np.array(Z)\n",
    "        return Z\n",
    "\n",
    "    def backprop(self, y_data):\n",
    "        Z = y_data\n",
    "        dz = derivative(self.act, Z)\n",
    "        dW = []\n",
    "        dZ = []\n",
    "        for i, W in reversed(list(enumerate(self.weights))):\n",
    "            # dw = dL / dW\n",
    "            dw = np.kron(Z.T, dz)\n",
    "            dW.append(np.array(dw))\n",
    "            dz = np.multiply(dz @ W.T, derivative(self.act, Z))\n",
    "            dZ.append(np.array(dz))\n",
    "        return dW\n",
    "\n",
    "    def update(self, lr, dW):\n",
    "        for i, dw in reversed(list(enumerate(dW))):\n",
    "        #for weight, dw in enumerate(zip(self.weights, dW)):\n",
    "            self.weights[i] -= lr * dw"
   ]
  },
  {
   "cell_type": "code",
   "execution_count": 138,
   "metadata": {},
   "outputs": [
    {
     "name": "stdout",
     "output_type": "stream",
     "text": [
      "[array([[ 0.02839929,  0.02600207, -0.10408537],\n",
      "       [-0.01834751,  0.00644143,  0.02419577]]), array([[ 0.02839929,  0.02600207, -0.10408537],\n",
      "       [-0.01834751,  0.00644143,  0.02419577],\n",
      "       [ 0.03475003,  0.12065913, -0.13146417]]), array([[ 0.02839929],\n",
      "       [ 0.02600207],\n",
      "       [-0.10408537]])]\n",
      "dw [[0.]]\n",
      "dw arr [[0.]]\n",
      "dw [[ 0.  0. -0.]]\n",
      "dw arr [[ 0.  0. -0.]]\n",
      "dw [[ 0. -0.  0.]]\n",
      "dw arr [[ 0. -0.  0.]]\n"
     ]
    },
    {
     "ename": "ValueError",
     "evalue": "non-broadcastable output operand with shape (3,1) doesn't match the broadcast shape (3,3)",
     "output_type": "error",
     "traceback": [
      "\u001b[0;31m---------------------------------------------------------------------------\u001b[0m",
      "\u001b[0;31mValueError\u001b[0m                                Traceback (most recent call last)",
      "\u001b[0;32m<ipython-input-138-4f9dfb3df453>\u001b[0m in \u001b[0;36m<module>\u001b[0;34m\u001b[0m\n\u001b[1;32m     10\u001b[0m         \u001b[0;31m#logging.debug('y', y, 'y_pred', y_pred)\u001b[0m\u001b[0;34m\u001b[0m\u001b[0;34m\u001b[0m\u001b[0;34m\u001b[0m\u001b[0m\n\u001b[1;32m     11\u001b[0m         \u001b[0mdW\u001b[0m \u001b[0;34m=\u001b[0m \u001b[0mnn\u001b[0m\u001b[0;34m.\u001b[0m\u001b[0mbackprop\u001b[0m\u001b[0;34m(\u001b[0m\u001b[0my\u001b[0m\u001b[0;34m)\u001b[0m\u001b[0;34m\u001b[0m\u001b[0;34m\u001b[0m\u001b[0m\n\u001b[0;32m---> 12\u001b[0;31m         \u001b[0mnn\u001b[0m\u001b[0;34m.\u001b[0m\u001b[0mupdate\u001b[0m\u001b[0;34m(\u001b[0m\u001b[0mlr\u001b[0m\u001b[0;34m,\u001b[0m \u001b[0mdW\u001b[0m\u001b[0;34m)\u001b[0m\u001b[0;34m\u001b[0m\u001b[0;34m\u001b[0m\u001b[0m\n\u001b[0m\u001b[1;32m     13\u001b[0m         \u001b[0mloss\u001b[0m \u001b[0;34m+=\u001b[0m \u001b[0;34m[\u001b[0m\u001b[0mmse\u001b[0m\u001b[0;34m(\u001b[0m\u001b[0my_pred\u001b[0m\u001b[0;34m,\u001b[0m \u001b[0my\u001b[0m\u001b[0;34m)\u001b[0m\u001b[0;34m]\u001b[0m\u001b[0;34m\u001b[0m\u001b[0;34m\u001b[0m\u001b[0m\n\u001b[1;32m     14\u001b[0m         \u001b[0mepoch\u001b[0m \u001b[0;34m+=\u001b[0m \u001b[0;36m1\u001b[0m\u001b[0;34m\u001b[0m\u001b[0;34m\u001b[0m\u001b[0m\n",
      "\u001b[0;32m<ipython-input-137-15e3169505cb>\u001b[0m in \u001b[0;36mupdate\u001b[0;34m(self, lr, dW)\u001b[0m\n\u001b[1;32m     43\u001b[0m         \u001b[0;32mfor\u001b[0m \u001b[0mi\u001b[0m\u001b[0;34m,\u001b[0m \u001b[0mdw\u001b[0m \u001b[0;32min\u001b[0m \u001b[0mreversed\u001b[0m\u001b[0;34m(\u001b[0m\u001b[0mlist\u001b[0m\u001b[0;34m(\u001b[0m\u001b[0menumerate\u001b[0m\u001b[0;34m(\u001b[0m\u001b[0mdW\u001b[0m\u001b[0;34m)\u001b[0m\u001b[0;34m)\u001b[0m\u001b[0;34m)\u001b[0m\u001b[0;34m:\u001b[0m\u001b[0;34m\u001b[0m\u001b[0;34m\u001b[0m\u001b[0m\n\u001b[1;32m     44\u001b[0m         \u001b[0;31m#for weight, dw in enumerate(zip(self.weights, dW)):\u001b[0m\u001b[0;34m\u001b[0m\u001b[0;34m\u001b[0m\u001b[0;34m\u001b[0m\u001b[0m\n\u001b[0;32m---> 45\u001b[0;31m             \u001b[0mself\u001b[0m\u001b[0;34m.\u001b[0m\u001b[0mweights\u001b[0m\u001b[0;34m[\u001b[0m\u001b[0mi\u001b[0m\u001b[0;34m]\u001b[0m \u001b[0;34m-=\u001b[0m \u001b[0mlr\u001b[0m \u001b[0;34m*\u001b[0m \u001b[0mdw\u001b[0m\u001b[0;34m\u001b[0m\u001b[0;34m\u001b[0m\u001b[0m\n\u001b[0m",
      "\u001b[0;31mValueError\u001b[0m: non-broadcastable output operand with shape (3,1) doesn't match the broadcast shape (3,3)"
     ]
    }
   ],
   "source": [
    "nn = Net(dim=[2, 3, 3, 1])\n",
    "X, Y = generate_XOR_easy()\n",
    "\n",
    "lr, epoch, done = 0.8, 0, False\n",
    "while not done:\n",
    "    loss = []\n",
    "    for x, y in zip(X, Y):\n",
    "        x, y = x.reshape(1, -1), y.reshape(1, -1)\n",
    "        y_pred = nn.predict(x)\n",
    "        #logging.debug('y', y, 'y_pred', y_pred)\n",
    "        dW = nn.backprop(y)\n",
    "        nn.update(lr, dW)\n",
    "        loss += [mse(y_pred, y)]\n",
    "        epoch += 1\n",
    "        if epoch % 5000 == 0:\n",
    "            print('epoch: {}, loss: {}'.format(epoch, loss[-1]))\n",
    "    done = all(np.array(loss) < 0.04)\n",
    "\n",
    "Y_pred = [int(nn.predict(x.reshape(1, -1)) >= 0.5) for x in X]\n",
    "show_result(X, Y, Y_pred)"
   ]
  },
  {
   "cell_type": "code",
   "execution_count": 7,
   "metadata": {
    "scrolled": true
   },
   "outputs": [
    {
     "data": {
      "image/png": "[encoded data removed]",
      "text/plain": [
       "<Figure size 432x288 with 2 Axes>"
      ]
     },
     "metadata": {
      "needs_background": "light"
     },
     "output_type": "display_data"
    },
    {
     "data": {
      "image/png": "[encoded data removed]",
      "text/plain": [
       "<Figure size 432x288 with 2 Axes>"
      ]
     },
     "metadata": {
      "needs_background": "light"
     },
     "output_type": "display_data"
    }
   ],
   "source": [
    "nn = Net(dim=[2, 3, 3, 1])\n",
    "lr, epoch, done = 0.8, 0, False\n",
    "X, Y = generate_linear()\n",
    "while not done:\n",
    "    loss = []\n",
    "    for x, y in ZIP(X, Y):\n",
    "        x, y = x.reshape(1, -1), y.reshape(1, -1)\n",
    "        y_pred = nn.predict(x)\n",
    "        nn.backprop(y)\n",
    "        nn.update(lr)\n",
    "        loss += [mse(y_pred, y)]\n",
    "        epoch += 1\n",
    "        if epoch % 5000 == 0:\n",
    "            logging.info('epoch: %d, loss: %f', epoch, loss[-1])\n",
    "    done = all(np.array(loss) < 0.04)\n",
    "\n",
    "Y_pred = [int(nn.predict(x.reshape(1, -1)) >= 0.5) for x in X]\n",
    "show_result(X, Y, Y_pred)"
   ]
  },
  {
   "cell_type": "code",
   "execution_count": null,
   "metadata": {},
   "outputs": [],
   "source": []
  }
 ],
 "metadata": {
  "kernelspec": {
   "display_name": "Python 3",
   "language": "python",
   "name": "python3"
  },
  "language_info": {
   "codemirror_mode": {
    "name": "ipython",
    "version": 3
   },
   "file_extension": ".py",
   "mimetype": "text/x-python",
   "name": "python",
   "nbconvert_exporter": "python",
   "pygments_lexer": "ipython3",
   "version": "3.7.7"
  }
 },
 "nbformat": 4,
 "nbformat_minor": 4
}
